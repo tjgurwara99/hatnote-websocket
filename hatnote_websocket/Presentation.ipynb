{
 "cells": [
  {
   "cell_type": "markdown",
   "id": "af1dc2e8",
   "metadata": {
    "slideshow": {
     "slide_type": "slide"
    }
   },
   "source": [
    "<h1><center>An interesting project</center></h1>\n",
    "\n",
    "---\n",
    "\n",
    "<h3><center> Analysing the Hatnote websocket messages </center></h3>"
   ]
  },
  {
   "cell_type": "markdown",
   "id": "33b38743",
   "metadata": {
    "slideshow": {
     "slide_type": "subslide"
    }
   },
   "source": [
    "<h3><center> We begin by some preamble of our analysis </center></h3>"
   ]
  },
  {
   "cell_type": "markdown",
   "id": "90c79441",
   "metadata": {
    "slideshow": {
     "slide_type": "slide"
    }
   },
   "source": [
    "<h3> <center> The Hatnote websocket url </center> </h3>"
   ]
  },
  {
   "cell_type": "code",
   "execution_count": 1,
   "id": "9650a61e",
   "metadata": {
    "slideshow": {
     "slide_type": "subslide"
    }
   },
   "outputs": [],
   "source": [
    "url = \"ws://wikimon.hatnote.com:9000\""
   ]
  },
  {
   "cell_type": "markdown",
   "id": "8c514c39",
   "metadata": {
    "slideshow": {
     "slide_type": "skip"
    }
   },
   "source": [
    "---"
   ]
  },
  {
   "cell_type": "markdown",
   "id": "97c2c187",
   "metadata": {
    "slideshow": {
     "slide_type": "slide"
    }
   },
   "source": [
    "<h3><center> We import the modules that we need </center></h3>"
   ]
  },
  {
   "cell_type": "code",
   "execution_count": 2,
   "id": "6db7f664",
   "metadata": {
    "slideshow": {
     "slide_type": "fragment"
    }
   },
   "outputs": [],
   "source": [
    "# the following are the imports from the current\n",
    "# directory which I created to abstract away the\n",
    "# complecated logic\n",
    "\n",
    "from hatnote_websocket import subscribers, publishers"
   ]
  },
  {
   "cell_type": "markdown",
   "id": "26cbab43",
   "metadata": {
    "slideshow": {
     "slide_type": "slide"
    }
   },
   "source": [
    "<h3><center> We initialise our subscribers </center></h3>"
   ]
  },
  {
   "cell_type": "code",
   "execution_count": 3,
   "id": "a8e452d5",
   "metadata": {
    "slideshow": {
     "slide_type": "subslide"
    }
   },
   "outputs": [],
   "source": [
    "title_analysers = [subscribers.TitleSubscriber() for _ in range(10)]\n",
    "hit_analysers = [subscribers.HitSubscriber() for _ in range(10)]\n",
    "change_size_analysers = [subscribers.ChangeSizeSubscriber() for _ in range(10)]\n",
    "\n",
    "analysers = [[ta, ha, csa] for (ta, ha, csa) in zip(title_analysers, hit_analysers, change_size_analysers)]"
   ]
  },
  {
   "cell_type": "markdown",
   "id": "8011dab0",
   "metadata": {
    "slideshow": {
     "slide_type": "fragment"
    }
   },
   "source": [
    "<center> These subscribers will be the data analysers which satisfy a simple protocol (interface) </center>"
   ]
  },
  {
   "cell_type": "markdown",
   "id": "04be8249",
   "metadata": {
    "slideshow": {
     "slide_type": "fragment"
    }
   },
   "source": [
    "<center> There may infact be a better way to initialise them for 10 independent analysis on the 10 different datasets but I couldn't think of a better way. </center>"
   ]
  },
  {
   "cell_type": "markdown",
   "id": "83a4c915",
   "metadata": {
    "slideshow": {
     "slide_type": "slide"
    }
   },
   "source": [
    "<h3> <center> Our analysis </center> </h3>"
   ]
  },
  {
   "cell_type": "markdown",
   "id": "b5e195b2",
   "metadata": {
    "slideshow": {
     "slide_type": "subslide"
    }
   },
   "source": [
    "<h3> <center> We create a result to hold all the results of independent analysis' </center> </h3>"
   ]
  },
  {
   "cell_type": "code",
   "execution_count": 4,
   "id": "d0e2be85",
   "metadata": {
    "slideshow": {
     "slide_type": "fragment"
    }
   },
   "outputs": [],
   "source": [
    "result = {\n",
    "    \"title_analyser_results\": [],\n",
    "    \"hit_analyser_results\": [],\n",
    "    \"change_size_analyser_results\": [],\n",
    "}"
   ]
  },
  {
   "cell_type": "markdown",
   "id": "899cca41",
   "metadata": {
    "slideshow": {
     "slide_type": "subslide"
    }
   },
   "source": [
    "<h3> <center> We then loop over all the analysers set to and pass it to our publisher </center> </h3> "
   ]
  },
  {
   "cell_type": "code",
   "execution_count": 5,
   "id": "388345db",
   "metadata": {
    "slideshow": {
     "slide_type": "fragment"
    }
   },
   "outputs": [],
   "source": [
    "for analyser in analysers:\n",
    "    publisher = publishers.Publisher(url, analyser, 100)\n",
    "    await publisher.publish()\n",
    "    result[\"title_analyser_results\"].append(analyser[0].result())\n",
    "    result[\"hit_analyser_results\"].append(analyser[1].result())\n",
    "    result[\"change_size_analyser_results\"].append(analyser[2].result())"
   ]
  },
  {
   "cell_type": "markdown",
   "id": "0031a72f",
   "metadata": {
    "slideshow": {
     "slide_type": "fragment"
    }
   },
   "source": [
    "<center> Our publisher is essentially consuming the message from the websocket and broadcasting it to all our analysers </center>\n",
    "\n",
    "<center> The idea follows a very simple <i> Publisher-Subscriber </i> pattern but since the publisher itself a subscriber to the websocket, we can consider it somewhat a hybrid of this pattern </center>"
   ]
  },
  {
   "cell_type": "markdown",
   "id": "e7ada1ca",
   "metadata": {
    "slideshow": {
     "slide_type": "slide"
    }
   },
   "source": [
    "<h3> <center> Now we extract the analyser result samples from the result dictionary </center> </h3>"
   ]
  },
  {
   "cell_type": "code",
   "execution_count": 6,
   "id": "f51c0ea5",
   "metadata": {
    "slideshow": {
     "slide_type": "subslide"
    }
   },
   "outputs": [],
   "source": [
    "title_analyser_results = result.get(\"title_analyser_results\")\n",
    "hit_analyser_results = result.get(\"hit_analyser_results\")\n",
    "change_size_analyser_results = result.get(\"change_size_analyser_results\")"
   ]
  },
  {
   "cell_type": "markdown",
   "id": "6876bef1",
   "metadata": {
    "slideshow": {
     "slide_type": "slide"
    }
   },
   "source": [
    "<h3> <center> We use our <i> Title Analyser </i> in an interesting way </center> </h3>"
   ]
  },
  {
   "cell_type": "markdown",
   "id": "fd388d89",
   "metadata": {
    "slideshow": {
     "slide_type": "fragment"
    }
   },
   "source": [
    "<center> <b>Hypothesis:</b> On average, there are at least 2.5 webpages being edited more than once. </center>\n",
    "\n",
    "<center> This can mean a number of things, but our focus will be considering the possibility of mistakenly commiting the edit and realising they made a mistake </center>\n",
    "\n",
    "<center> <b> Note: </b> this is not very scientific, hence we will not be doing hypothesis testing. </center>"
   ]
  },
  {
   "cell_type": "code",
   "execution_count": 7,
   "id": "c6c481ad",
   "metadata": {
    "slideshow": {
     "slide_type": "subslide"
    }
   },
   "outputs": [],
   "source": [
    "title_edits_more_than_once = []\n",
    "\n",
    "for analysis in title_analyser_results:\n",
    "    edits_greater_than_one = sum(times for _, times in analysis.items() if times > 1)\n",
    "    title_edits_more_than_once.append(edits_greater_than_one)"
   ]
  },
  {
   "cell_type": "code",
   "execution_count": 8,
   "id": "38e9f4a8",
   "metadata": {
    "slideshow": {
     "slide_type": "skip"
    }
   },
   "outputs": [],
   "source": [
    "from matplotlib import pyplot\n",
    "%matplotlib inline \n",
    "pyplot.rcParams[\"figure.figsize\"] = [12.00, 5.00]\n",
    "pyplot.rcParams[\"figure.autolayout\"] = True"
   ]
  },
  {
   "cell_type": "code",
   "execution_count": 9,
   "id": "31093ed6",
   "metadata": {
    "slideshow": {
     "slide_type": "slide"
    }
   },
   "outputs": [
    {
     "data": {
      "text/plain": [
       "<BarContainer object of 10 artists>"
      ]
     },
     "execution_count": 9,
     "metadata": {},
     "output_type": "execute_result"
    },
    {
     "data": {
      "image/png": "[encoded data removed]",
      "text/plain": [
       "<Figure size 864x360 with 1 Axes>"
      ]
     },
     "metadata": {
      "needs_background": "light"
     },
     "output_type": "display_data"
    }
   ],
   "source": [
    "pyplot.xlabel(\"Titles index\")\n",
    "pyplot.ylabel(\"Number of edits greater than 1\")\n",
    "pyplot.bar(list(range(len(title_edits_more_than_once))), title_edits_more_than_once)"
   ]
  },
  {
   "cell_type": "code",
   "execution_count": 10,
   "id": "4c822e37",
   "metadata": {
    "slideshow": {
     "slide_type": "skip"
    }
   },
   "outputs": [],
   "source": [
    "def average(data: list[int]) -> float:\n",
    "    \"\"\"Get the average of our data set.\"\"\"\n",
    "    return sum(data) / len(data)"
   ]
  },
  {
   "cell_type": "markdown",
   "id": "ba805387",
   "metadata": {
    "slideshow": {
     "slide_type": "slide"
    }
   },
   "source": [
    "<h3> <center> And so our average is </center> </h3>"
   ]
  },
  {
   "cell_type": "code",
   "execution_count": 11,
   "id": "bd09c8da",
   "metadata": {
    "slideshow": {
     "slide_type": "fragment"
    }
   },
   "outputs": [],
   "source": [
    "average_title_edits = average(title_edits_more_than_once)"
   ]
  },
  {
   "cell_type": "code",
   "execution_count": 12,
   "id": "fc5cbed9",
   "metadata": {
    "slideshow": {
     "slide_type": "subslide"
    }
   },
   "outputs": [
    {
     "data": {
      "text/plain": [
       "7.1"
      ]
     },
     "execution_count": 12,
     "metadata": {},
     "output_type": "execute_result"
    }
   ],
   "source": [
    "average_title_edits"
   ]
  },
  {
   "cell_type": "markdown",
   "id": "12bc1d46",
   "metadata": {
    "slideshow": {
     "slide_type": "fragment"
    }
   },
   "source": [
    "<center> Of course, this is a small sample and taken consecutively so it doesn't really tell us much about its validity. So whether this is significant result or not is also not answered here as this would be a complete task on its own. But it is interesting to think about this question, since in the context of code and programming this could mean an incorrect commit that could be pushed to source control and result in breaking environments without thorough code reviews. </center>"
   ]
  },
  {
   "cell_type": "markdown",
   "id": "4ad9b0dc",
   "metadata": {
    "slideshow": {
     "slide_type": "slide"
    }
   },
   "source": [
    "<h3> <center> Using our <i> Hit Analyser </i> </center> </h3>"
   ]
  },
  {
   "cell_type": "markdown",
   "id": "199a0404",
   "metadata": {
    "slideshow": {
     "slide_type": "fragment"
    }
   },
   "source": [
    "<center> The purpose of Hit analyser is only to see on average how many users get an abuse filter and blocks that happen every hundred messages from the websocket. </center> "
   ]
  },
  {
   "cell_type": "code",
   "execution_count": 13,
   "id": "ca60150c",
   "metadata": {
    "slideshow": {
     "slide_type": "subslide"
    }
   },
   "outputs": [],
   "source": [
    "num_of_hits = [len(res) for res in hit_analyser_results]\n",
    "\n",
    "average_hits = average(num_of_hits)"
   ]
  },
  {
   "cell_type": "markdown",
   "id": "5ca9c94a",
   "metadata": {
    "slideshow": {
     "slide_type": "slide"
    }
   },
   "source": [
    "<h3> <center> When plotting our result, we can see that our result looks something like this </center> </h3>"
   ]
  },
  {
   "cell_type": "code",
   "execution_count": 14,
   "id": "61fc4dd8",
   "metadata": {
    "slideshow": {
     "slide_type": "subslide"
    }
   },
   "outputs": [
    {
     "data": {
      "text/plain": [
       "<BarContainer object of 10 artists>"
      ]
     },
     "execution_count": 14,
     "metadata": {},
     "output_type": "execute_result"
    },
    {
     "data": {
      "image/png": "[encoded data removed]",
      "text/plain": [
       "<Figure size 864x360 with 1 Axes>"
      ]
     },
     "metadata": {
      "needs_background": "light"
     },
     "output_type": "display_data"
    }
   ],
   "source": [
    "pyplot.xlabel(\"Hits index\")\n",
    "pyplot.ylabel(\"Number of hits every hundred messages from the websocket\")\n",
    "pyplot.bar(list(range(len(num_of_hits))), num_of_hits)"
   ]
  },
  {
   "cell_type": "markdown",
   "id": "30352e99",
   "metadata": {
    "slideshow": {
     "slide_type": "slide"
    }
   },
   "source": [
    "<h3> <center> So our average number of hits is </center> </h3>"
   ]
  },
  {
   "cell_type": "code",
   "execution_count": 15,
   "id": "f9de4081",
   "metadata": {
    "slideshow": {
     "slide_type": "fragment"
    }
   },
   "outputs": [
    {
     "data": {
      "text/plain": [
       "2.2"
      ]
     },
     "execution_count": 15,
     "metadata": {},
     "output_type": "execute_result"
    }
   ],
   "source": [
    "average_hits"
   ]
  },
  {
   "cell_type": "markdown",
   "id": "862fbcc3",
   "metadata": {
    "slideshow": {
     "slide_type": "slide"
    }
   },
   "source": [
    "<h3> <center> The idea for the Change Size Analyser was to see how much data changes for each title that gets edited over a hundred messages received from the Websocket </center> </h3>"
   ]
  },
  {
   "cell_type": "code",
   "execution_count": 16,
   "id": "d25ad9ee",
   "metadata": {
    "slideshow": {
     "slide_type": "skip"
    }
   },
   "outputs": [],
   "source": [
    "def calculate_size_delta(result_dict):\n",
    "    return sum(size for _, size in result_dict.items())"
   ]
  },
  {
   "cell_type": "markdown",
   "id": "0ffb3fff",
   "metadata": {
    "slideshow": {
     "slide_type": "subslide"
    }
   },
   "source": [
    "<h3> <center> This is what our data set looks like </center> </h3>"
   ]
  },
  {
   "cell_type": "code",
   "execution_count": 17,
   "id": "03d3b771",
   "metadata": {
    "slideshow": {
     "slide_type": "subslide"
    }
   },
   "outputs": [],
   "source": [
    "total_deltas_over_samples = [calculate_size_delta(res) for res in change_size_analyser_results]"
   ]
  },
  {
   "cell_type": "code",
   "execution_count": 19,
   "id": "1a902092",
   "metadata": {
    "slideshow": {
     "slide_type": "fragment"
    }
   },
   "outputs": [
    {
     "data": {
      "text/plain": [
       "<BarContainer object of 10 artists>"
      ]
     },
     "execution_count": 19,
     "metadata": {},
     "output_type": "execute_result"
    },
    {
     "data": {
      "image/png": "[encoded data removed]",
      "text/plain": [
       "<Figure size 864x360 with 1 Axes>"
      ]
     },
     "metadata": {
      "needs_background": "light"
     },
     "output_type": "display_data"
    }
   ],
   "source": [
    "pyplot.xlabel(\"Change size index\")\n",
    "pyplot.ylabel(\"Change per 100 websocket messages\")\n",
    "pyplot.bar(list(range(len(total_deltas_over_samples))), total_deltas_over_samples)"
   ]
  },
  {
   "cell_type": "markdown",
   "id": "7589a3e9",
   "metadata": {
    "slideshow": {
     "slide_type": "subslide"
    }
   },
   "source": [
    "<h3> <center> We calculate our average number of byte changes in each edit </center> </h3>"
   ]
  },
  {
   "cell_type": "markdown",
   "id": "ffceb0ae",
   "metadata": {
    "slideshow": {
     "slide_type": "slide"
    }
   },
   "source": [
    "<h3> <center> And finally get our average change size </center> </h3>"
   ]
  },
  {
   "cell_type": "code",
   "execution_count": 20,
   "id": "f0d80d41",
   "metadata": {
    "slideshow": {
     "slide_type": "fragment"
    }
   },
   "outputs": [],
   "source": [
    "average_change_in_size = average(total_deltas_over_samples)"
   ]
  },
  {
   "cell_type": "code",
   "execution_count": 21,
   "id": "b494e051",
   "metadata": {
    "slideshow": {
     "slide_type": "subslide"
    }
   },
   "outputs": [
    {
     "data": {
      "text/plain": [
       "90395.2"
      ]
     },
     "execution_count": 21,
     "metadata": {},
     "output_type": "execute_result"
    }
   ],
   "source": [
    "average_change_in_size"
   ]
  },
  {
   "cell_type": "markdown",
   "id": "e5a8c8e4",
   "metadata": {
    "slideshow": {
     "slide_type": "slide"
    }
   },
   "source": [
    "<h3> <center> Explanation of our approach </center> </h3>"
   ]
  },
  {
   "cell_type": "markdown",
   "id": "7cabeeb1",
   "metadata": {
    "slideshow": {
     "slide_type": "fragment"
    }
   },
   "source": [
    "<center> This was a very basic analysis of the data that I needed to analyse. So here I want to explain the approach taken when I created the publisher and subsriber pattern. </center>"
   ]
  },
  {
   "cell_type": "markdown",
   "id": "37216494",
   "metadata": {
    "slideshow": {
     "slide_type": "slide"
    }
   },
   "source": [
    "<h3> <center> The websocket message </center> </h3>"
   ]
  },
  {
   "cell_type": "markdown",
   "id": "efbd0e13",
   "metadata": {
    "slideshow": {
     "slide_type": "fragment"
    }
   },
   "source": [
    "<center> Since we already know what the websocket message looks like, we constructed a simple `pydantic` BaseModel to make it easier to work with. </center>"
   ]
  },
  {
   "cell_type": "markdown",
   "id": "36f57af4",
   "metadata": {
    "slideshow": {
     "slide_type": "subslide"
    }
   },
   "source": [
    "<h3> <center> Message Base Model </center> </h3>\n",
    "\n",
    "```python\n",
    "class Message(pydantic.BaseModel):\n",
    "    \"\"\"Schema for the hatnote-websocket response messages.\"\"\"\n",
    "\n",
    "    action: str\n",
    "    change_size: int | None\n",
    "    flags: str | None\n",
    "    hashtags: list[str]\n",
    "    is_anon: bool\n",
    "    is_bot: bool\n",
    "    is_minor: bool\n",
    "    is_new: bool\n",
    "    is_patrolled: bool | None\n",
    "    mentions: list[str]\n",
    "    ns: str\n",
    "    page_title: str\n",
    "    parsed_summary: str | None\n",
    "    section: str\n",
    "    summary: str | None\n",
    "    user: str\n",
    "\n",
    "```"
   ]
  },
  {
   "cell_type": "markdown",
   "id": "2b3cd1e4",
   "metadata": {
    "slideshow": {
     "slide_type": "subslide"
    }
   },
   "source": [
    "<center> Note that we could have chosen to work with python dataclasses here and not rely on `pydantic` but `pydantic` provides some extra type safety that is not present in dataclasses by default. Thus we chose to use it here. </center>"
   ]
  },
  {
   "cell_type": "markdown",
   "id": "bdd9c2d4",
   "metadata": {
    "slideshow": {
     "slide_type": "slide"
    }
   },
   "source": [
    "<h3> <center> Publisher </center> </h3>"
   ]
  },
  {
   "cell_type": "markdown",
   "id": "f8d9a718",
   "metadata": {
    "slideshow": {
     "slide_type": "subslide"
    }
   },
   "source": [
    "<center> Our Publisher class looks like this: </center>\n",
    "\n",
    "```python\n",
    "\n",
    "class Publisher:\n",
    "    \"\"\"Class which consumes a message from the websocket and broadcasts to subscribers.\"\"\"\n",
    "\n",
    "    def __init__(self, url: str, analysers: list[Subscriber], count: int):\n",
    "        \"\"\"Initialize the websocket publisher.\"\"\"\n",
    "        self._analysers = analysers\n",
    "        self._url = url\n",
    "        self.counter = count\n",
    "\n",
    "    async def publish(self):\n",
    "        async with websockets.connect(self._url) as ws:\n",
    "            for _ in range(self.counter):\n",
    "                event = await ws.recv()\n",
    "                message = Message.parse_raw(event)\n",
    "                await asyncio.gather(\n",
    "                    *[analyser.consume(message) for analyser in self._analysers]\n",
    "                )\n",
    "```\n",
    "\n",
    "This class has only one responsibility, which is to listen for a message to the websocket `url` and broadcast that message to the subscribers."
   ]
  },
  {
   "cell_type": "markdown",
   "id": "a98b6b34",
   "metadata": {
    "slideshow": {
     "slide_type": "slide"
    }
   },
   "source": [
    "<h3> <center> Subscribers </center> </h3>"
   ]
  },
  {
   "cell_type": "markdown",
   "id": "9ef84367",
   "metadata": {
    "slideshow": {
     "slide_type": "subslide"
    }
   },
   "source": [
    "<center> Our subscribers are classes which satisfy is a simple protocol: </center>\n",
    "\n",
    "```python\n",
    "class Subsriber(typing.Protocol):\n",
    "    \"\"\"Subscriber protocol.\"\"\"\n",
    "\n",
    "    async def consume(self, message: Message) -> None:\n",
    "        \"\"\"Consume a message from the publisher.\"\"\"\n",
    "\n",
    "    def result(self) -> dict[str, int]:\n",
    "        \"\"\"The result outputs the processed result of the messages consumed.\"\"\"\n",
    "\n",
    "```"
   ]
  },
  {
   "cell_type": "markdown",
   "id": "421292b4",
   "metadata": {
    "slideshow": {
     "slide_type": "subslide"
    }
   },
   "source": [
    "<center> We could have chosen to divide this protocols to two different protocols. However, for this project we decided that currently this is not needed since we are not using the result method in any meaningful way. In fact, all the analysis for these results in done in this report which was to demonstrate the simple usecases.</center>  "
   ]
  },
  {
   "cell_type": "markdown",
   "id": "53b995e3",
   "metadata": {
    "slideshow": {
     "slide_type": "slide"
    }
   },
   "source": [
    "<h3> <center> Our analysers are classes that simply satisfy this protocol. </center> </h3>"
   ]
  },
  {
   "cell_type": "markdown",
   "id": "268483a7",
   "metadata": {
    "slideshow": {
     "slide_type": "subslide"
    }
   },
   "source": [
    "<h3> <center> TitleSubscriber </center> </h3>\n",
    "\n",
    "\n",
    "\n",
    "```python\n",
    "class TitleSubscriber:\n",
    "    \"\"\"Subscriber class which consumes messages from the publisher.\"\"\"\n",
    "\n",
    "    def __init__(self):\n",
    "        \"\"\"Initialize the message subscriber.\"\"\"\n",
    "        self._titles: dict[str, int] = {}\n",
    "        self.mutex = Lock()\n",
    "\n",
    "    async def consume(self, message: Message) -> None:\n",
    "        \"\"\"Consume a message from the publisher.\"\"\"\n",
    "        if message.action == \"edit\":\n",
    "            if self._titles.get(message.page_title) is None:\n",
    "                with self.mutex:\n",
    "                    self._titles[message.page_title] = 1\n",
    "                return\n",
    "            with self.mutex:\n",
    "                self._titles[message.page_title] += 1\n",
    "\n",
    "    def result(self) -> dict[str, int]:\n",
    "        \"\"\"Return the result of the analysis.\"\"\"\n",
    "        return self._titles\n",
    "\n",
    "```"
   ]
  },
  {
   "cell_type": "markdown",
   "id": "1e9d42fd",
   "metadata": {
    "slideshow": {
     "slide_type": "subslide"
    }
   },
   "source": [
    "<h3> <center> HitSubscriber </center> </h3>\n",
    "\n",
    "```python\n",
    "class HitSubscriber:\n",
    "    \"\"\"Subscriber class which consumes messages from the publisher.\"\"\"\n",
    "\n",
    "    def __init__(self):\n",
    "        \"\"\"Initialize the hit subscriber.\"\"\"\n",
    "        self._titles: dict[str, int] = {}\n",
    "        self.mutex = Lock()\n",
    "\n",
    "    async def consume(self, message: Message) -> None:\n",
    "        \"\"\"Consume a message from the publisher.\"\"\"\n",
    "        if message.action == \"hit\":\n",
    "            with self.mutex:\n",
    "                self._titles[f\"{message.page_title}-{message.user}\"] = 0\n",
    "\n",
    "    def result(self) -> dict[str, int]:\n",
    "        \"\"\"Return the number of hits.\"\"\"\n",
    "        return self._titles\n",
    "\n",
    "```"
   ]
  },
  {
   "cell_type": "markdown",
   "id": "7013589b",
   "metadata": {
    "slideshow": {
     "slide_type": "subslide"
    }
   },
   "source": [
    "<h3> <center> ChangeSizeSubscriber </center> </h3>\n",
    "\n",
    "```python\n",
    "class ChangeSizeSubscriber:\n",
    "    \"\"\"Subscriber class which consumes messages from the publisher.\"\"\"\n",
    "\n",
    "    def __init__(self):\n",
    "        \"\"\"Initialize the change size subscriber.\"\"\"\n",
    "        self._titles: dict[str, int] = {}\n",
    "        self.mutex = Lock()\n",
    "\n",
    "    async def consume(self, message: Message) -> None:\n",
    "        \"\"\"Consume a message from the publisher.\"\"\"\n",
    "        if message.action == \"edit\":\n",
    "            if self._titles.get(message.page_title) is None:\n",
    "                with self.mutex:\n",
    "                    self._titles[message.page_title] = abs(message.change_size)\n",
    "                return\n",
    "            with self.mutex:\n",
    "                self._titles[message.page_title] += abs(message.change_size)\n",
    "\n",
    "    def result(self) -> dict[str, int]:\n",
    "        \"\"\"Return the result of the analysis.\"\"\"\n",
    "        return self._titles\n",
    "\n",
    "```"
   ]
  },
  {
   "cell_type": "markdown",
   "id": "021959de",
   "metadata": {
    "slideshow": {
     "slide_type": "subslide"
    }
   },
   "source": [
    "<center> Further note that these classes are all using a mutex, which makes these threadsafe and prevent race conditions in the asynchronous `publish` method of our `Publisher` class. </center>"
   ]
  },
  {
   "cell_type": "markdown",
   "id": "889bd211",
   "metadata": {
    "slideshow": {
     "slide_type": "slide"
    }
   },
   "source": [
    "<h3> <center> Conclusion </center> </h3>"
   ]
  },
  {
   "cell_type": "markdown",
   "id": "af56d95a",
   "metadata": {
    "slideshow": {
     "slide_type": "subslide"
    }
   },
   "source": [
    "<center> In this small report, we have seen that: </center>"
   ]
  },
  {
   "cell_type": "markdown",
   "id": "19cbbf7d",
   "metadata": {
    "slideshow": {
     "slide_type": "fragment"
    }
   },
   "source": [
    "1. For every hundred messages that we receive from the websocket there are on average 7.1 times where a single page is edited more than once (out of 10 samples;)"
   ]
  },
  {
   "cell_type": "markdown",
   "id": "60f707cd",
   "metadata": {
    "slideshow": {
     "slide_type": "fragment"
    }
   },
   "source": [
    "2. For every hundred messages that we receive from the websocket, there are on average 2.2 number of abuse filters (out of 10 samples;)"
   ]
  },
  {
   "cell_type": "markdown",
   "id": "fbaf84f4",
   "metadata": {
    "slideshow": {
     "slide_type": "fragment"
    }
   },
   "source": [
    "3. For every hundred messages that we receive from the websocket, the byte changes on wikipedia server has an average of 90395.2 (out of 10 samples.)"
   ]
  }
 ],
 "metadata": {
  "celltoolbar": "Slideshow",
  "kernelspec": {
   "display_name": "Python 3 (ipykernel)",
   "language": "python",
   "name": "python3"
  },
  "language_info": {
   "codemirror_mode": {
    "name": "ipython",
    "version": 3
   },
   "file_extension": ".py",
   "mimetype": "text/x-python",
   "name": "python",
   "nbconvert_exporter": "python",
   "pygments_lexer": "ipython3",
   "version": "3.10.2"
  }
 },
 "nbformat": 4,
 "nbformat_minor": 5
}
